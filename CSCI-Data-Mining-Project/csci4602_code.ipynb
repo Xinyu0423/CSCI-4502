{
 "cells": [
  {
   "cell_type": "code",
   "execution_count": 1,
   "metadata": {},
   "outputs": [],
   "source": [
    "import numpy as np\n",
    "import matplotlib.pyplot as plt\n",
    "import pandas as pd\n",
    "import datetime\n",
    "import random\n",
    "import math\n",
    "import scipy.stats as stats\n",
    "from matplotlib import dates\n",
    "\n",
    "%matplotlib inline"
   ]
  },
  {
   "cell_type": "code",
   "execution_count": 112,
   "metadata": {},
   "outputs": [
    {
     "data": {
      "text/html": [
       "<div>\n",
       "<style scoped>\n",
       "    .dataframe tbody tr th:only-of-type {\n",
       "        vertical-align: middle;\n",
       "    }\n",
       "\n",
       "    .dataframe tbody tr th {\n",
       "        vertical-align: top;\n",
       "    }\n",
       "\n",
       "    .dataframe thead th {\n",
       "        text-align: right;\n",
       "    }\n",
       "</style>\n",
       "<table border=\"1\" class=\"dataframe\">\n",
       "  <thead>\n",
       "    <tr style=\"text-align: right;\">\n",
       "      <th></th>\n",
       "      <th>Activity</th>\n",
       "      <th>Tag</th>\n",
       "    </tr>\n",
       "  </thead>\n",
       "  <tbody>\n",
       "    <tr>\n",
       "      <th>0</th>\n",
       "      <td>Meeting</td>\n",
       "      <td>MM</td>\n",
       "    </tr>\n",
       "  </tbody>\n",
       "</table>\n",
       "</div>"
      ],
      "text/plain": [
       "  Activity Tag\n",
       "0  Meeting  MM"
      ]
     },
     "execution_count": 112,
     "metadata": {},
     "output_type": "execute_result"
    }
   ],
   "source": [
    "filepath = \"10-02-2019.ics_1.orage\"\n",
    "df = pd.read_csv(filepath, header=None)\n",
    "df.dropna(how='all', axis=1)\n",
    "keywords=[\"meet\",\"homework\",\"party\",\"Work\",\"CA\",\"TA\",\"class\",\"movie\",\"tennis\",\"\"]\n",
    "tags=[\"Meeting\",\"Works\",\"Sports\",\"Leisure\",\"Miscellaneous\"]\n",
    "df['Tag']=np.nan\n",
    "df['Duration']=np.nan\n",
    "df.rename(columns={0:'Activity',1:'Start-time',2:'End-time',3:'Note',4:'Location',5:'Tag',6:'Duration'},inplace=True)\n",
    "df2=pd.DataFrame(columns=['Activity','Tag'])\n",
    "\n",
    "for i,row in df.iterrows():\n",
    "   \n",
    "    s=str(row['Activity'])\n",
    "    for j in range(len(keywords)):\n",
    "        \n",
    "        if keywords[j] in s:\n",
    "            update=str(keywords[j])\n",
    "            data=pd.DataFrame({'Activity':[s],'Tag':[update],})\n",
    "            df2.append(data)\n",
    "\n",
    "df3=df2.append({'Activity':'Meeting','Tag':'MM'},ignore_index=True)\n",
    "df3=df2.append({'Activity':'Meeting','Tag':'MM'},ignore_index=True)\n",
    "df3.head(50)\n",
    " #the activities in the new column, group the times into weeks, morning, afternoon and evening. \n",
    "# tag the activities, come up tags as much as we can, create a new column for tag, create new column for duration, create new column for morning/afternoon/evening"
   ]
  },
  {
   "cell_type": "code",
   "execution_count": null,
   "metadata": {},
   "outputs": [],
   "source": []
  }
 ],
 "metadata": {
  "kernelspec": {
   "display_name": "Python 3",
   "language": "python",
   "name": "python3"
  },
  "language_info": {
   "codemirror_mode": {
    "name": "ipython",
    "version": 3
   },
   "file_extension": ".py",
   "mimetype": "text/x-python",
   "name": "python",
   "nbconvert_exporter": "python",
   "pygments_lexer": "ipython3",
   "version": "3.7.0"
  }
 },
 "nbformat": 4,
 "nbformat_minor": 2
}
